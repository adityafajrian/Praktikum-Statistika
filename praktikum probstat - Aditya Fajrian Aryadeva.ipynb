{
 "cells": [
  {
   "cell_type": "code",
   "execution_count": 1,
   "id": "9605a876",
   "metadata": {},
   "outputs": [
    {
     "name": "stdout",
     "output_type": "stream",
     "text": [
      "       Nama Gender  Angkatan  Tinggi  Waktu Perjalanan (Menit) wilayah tinggal\n",
      "0   Achmad       L      2023     175                        15         jakarta\n",
      "1    rayyan      L      2023     165                        13          bekasi\n",
      "2     felix      L      2023     175                        17          jaktim\n",
      "3    andrew      L      2023     168                        30           depok\n",
      "4     April      P      2023     175                        15       tangerang\n",
      "5     Ariel      L      2023     185                        17         jakarta\n",
      "6      Arik      L      2023     173                        30          jakbar\n",
      "7     Aurel      P      2023     175                        21           jakut\n",
      "8     bahru      P      2023     171                        22           depok\n",
      "9      dewa      L      2023     175                        31         jakarta\n",
      "10     vira      L      2023     178                        25         jakarta\n",
      "11     dony      L      2023     175                        28          bekasi\n",
      "12     naya      P      2023     169                        10         jakarta\n",
      "13    kevin      L      2023     173                        30          jaktim\n",
      "14   hannan      L      2023     166                        30          jaktim\n",
      "15  bambang      L      2023     175                        36           depok\n",
      "16     jett      L      2023     170                        22         jakarta\n",
      "17     dafa      L      2023     160                        15          jakbar\n",
      "18    dimas      L      2023     175                        48          bekasi\n",
      "19    monic      P      2023     171                        22           depok\n",
      "20     bayu      L      2023     175                        31         jakarta\n",
      "21   arjuna      L      2023     178                        25         jakarta\n",
      "22     afuk      L      2023     179                        28          bekasi\n",
      "23    putri      P      2023     169                        10         jakarta\n",
      "24     ipin      L      2023     173                        30          jaktim\n",
      "25  nicolas      L      2023     175                        30          jaktim\n",
      "26    nalen      L      2023     175                        36           depok\n",
      "27    fadil      L      2023     170                        22         jakarta\n",
      "28   zavier      L      2023     160                        15          jakbar\n"
     ]
    }
   ],
   "source": [
    "import pandas as pd\n",
    "\n",
    "data_adit = pd.read_clipboard()\n",
    "\n",
    "# Menampilkan data\n",
    "print(data_adit)"
   ]
  },
  {
   "cell_type": "code",
   "execution_count": 2,
   "id": "ad325664",
   "metadata": {},
   "outputs": [
    {
     "name": "stdout",
     "output_type": "stream",
     "text": [
      "       Nama Gender  Angkatan  Tinggi  Waktu Perjalanan (Menit) wilayah tinggal\n",
      "0   Achmad       L      2023     175                        15         jakarta\n",
      "2     felix      L      2023     175                        17          jaktim\n",
      "4     April      P      2023     175                        15       tangerang\n",
      "7     Aurel      P      2023     175                        21           jakut\n",
      "9      dewa      L      2023     175                        31         jakarta\n",
      "11     dony      L      2023     175                        28          bekasi\n",
      "15  bambang      L      2023     175                        36           depok\n",
      "18    dimas      L      2023     175                        48          bekasi\n",
      "20     bayu      L      2023     175                        31         jakarta\n",
      "25  nicolas      L      2023     175                        30          jaktim\n",
      "26    nalen      L      2023     175                        36           depok\n"
     ]
    }
   ],
   "source": [
    "adit = data_adit[data_adit['Tinggi'] == 175]\n",
    "\n",
    "# Menampilkan nama\n",
    "print(adit)"
   ]
  },
  {
   "cell_type": "code",
   "execution_count": 3,
   "id": "427959a8",
   "metadata": {},
   "outputs": [
    {
     "name": "stdout",
     "output_type": "stream",
     "text": [
      "       Nama Gender  Angkatan Tinggi  Waktu Perjalanan (Menit) wilayah tinggal\n",
      "0   Achmad       L      2023  large                        15         jakarta\n",
      "2     felix      L      2023  large                        17          jaktim\n",
      "4     April      P      2023  large                        15       tangerang\n",
      "7     Aurel      P      2023  large                        21           jakut\n",
      "9      dewa      L      2023  large                        31         jakarta\n",
      "11     dony      L      2023  large                        28          bekasi\n",
      "15  bambang      L      2023  large                        36           depok\n",
      "18    dimas      L      2023  large                        48          bekasi\n",
      "20     bayu      L      2023  large                        31         jakarta\n",
      "25  nicolas      L      2023  large                        30          jaktim\n",
      "26    nalen      L      2023  large                        36           depok\n"
     ]
    },
    {
     "name": "stderr",
     "output_type": "stream",
     "text": [
      "C:\\Users\\Acer\\AppData\\Local\\Temp\\ipykernel_17948\\1629601471.py:1: SettingWithCopyWarning: \n",
      "A value is trying to be set on a copy of a slice from a DataFrame.\n",
      "Try using .loc[row_indexer,col_indexer] = value instead\n",
      "\n",
      "See the caveats in the documentation: https://pandas.pydata.org/pandas-docs/stable/user_guide/indexing.html#returning-a-view-versus-a-copy\n",
      "  adit['Tinggi'] = pd.to_numeric(adit['Tinggi'])\n",
      "C:\\Users\\Acer\\AppData\\Local\\Temp\\ipykernel_17948\\1629601471.py:5: SettingWithCopyWarning: \n",
      "A value is trying to be set on a copy of a slice from a DataFrame.\n",
      "Try using .loc[row_indexer,col_indexer] = value instead\n",
      "\n",
      "See the caveats in the documentation: https://pandas.pydata.org/pandas-docs/stable/user_guide/indexing.html#returning-a-view-versus-a-copy\n",
      "  adit['Tinggi'] = adit['Tinggi'].apply(lambda x: 'large' if x > 160 else 'small')\n"
     ]
    }
   ],
   "source": [
    "adit['Tinggi'] = pd.to_numeric(adit['Tinggi'])\n",
    "\n",
    "import numpy as np\n",
    "\n",
    "adit['Tinggi'] = adit['Tinggi'].apply(lambda x: 'large' if x > 160 else 'small')\n",
    "\n",
    "# Menampilkan DataFrame setelah modifikasi\n",
    "print(adit)\n"
   ]
  },
  {
   "cell_type": "code",
   "execution_count": 4,
   "id": "0e9e29b0",
   "metadata": {},
   "outputs": [
    {
     "name": "stdout",
     "output_type": "stream",
     "text": [
      "       Nama Gender  Angkatan Tinggi  Waktu Perjalanan (Menit) wilayah tinggal  \\\n",
      "0   Achmad       L      2023  large                        15         jakarta   \n",
      "2     felix      L      2023  large                        17          jaktim   \n",
      "4     April      P      2023  large                        15       tangerang   \n",
      "7     Aurel      P      2023  large                        21           jakut   \n",
      "9      dewa      L      2023  large                        31         jakarta   \n",
      "11     dony      L      2023  large                        28          bekasi   \n",
      "15  bambang      L      2023  large                        36           depok   \n",
      "18    dimas      L      2023  large                        48          bekasi   \n",
      "20     bayu      L      2023  large                        31         jakarta   \n",
      "25  nicolas      L      2023  large                        30          jaktim   \n",
      "26    nalen      L      2023  large                        36           depok   \n",
      "\n",
      "   Jurusan Fakultas  \n",
      "0    TIF23      FTI  \n",
      "2    TIF23      FTI  \n",
      "4    TIF23      FTI  \n",
      "7    TIF23      FTI  \n",
      "9    TIF23      FTI  \n",
      "11   TIF23      FTI  \n",
      "15   TIF23      FTI  \n",
      "18   TIF23      FTI  \n",
      "20   TIF23      FTI  \n",
      "25   TIF23      FTI  \n",
      "26   TIF23      FTI  \n"
     ]
    },
    {
     "name": "stderr",
     "output_type": "stream",
     "text": [
      "C:\\Users\\Acer\\AppData\\Local\\Temp\\ipykernel_17948\\2694079603.py:2: SettingWithCopyWarning: \n",
      "A value is trying to be set on a copy of a slice from a DataFrame.\n",
      "Try using .loc[row_indexer,col_indexer] = value instead\n",
      "\n",
      "See the caveats in the documentation: https://pandas.pydata.org/pandas-docs/stable/user_guide/indexing.html#returning-a-view-versus-a-copy\n",
      "  adit['Jurusan'] = 'TIF23'\n",
      "C:\\Users\\Acer\\AppData\\Local\\Temp\\ipykernel_17948\\2694079603.py:3: SettingWithCopyWarning: \n",
      "A value is trying to be set on a copy of a slice from a DataFrame.\n",
      "Try using .loc[row_indexer,col_indexer] = value instead\n",
      "\n",
      "See the caveats in the documentation: https://pandas.pydata.org/pandas-docs/stable/user_guide/indexing.html#returning-a-view-versus-a-copy\n",
      "  adit['Fakultas'] = 'FTI'\n"
     ]
    }
   ],
   "source": [
    "# Menambahkan kolom baru 'newvariable' \n",
    "adit['Jurusan'] = 'TIF23'\n",
    "adit['Fakultas'] = 'FTI'\n",
    "\n",
    "# Menampilkan DataFrame 'nama' setelah penambahan kolom baru\n",
    "print(adit)"
   ]
  },
  {
   "cell_type": "code",
   "execution_count": 5,
   "id": "fcf07c2e",
   "metadata": {},
   "outputs": [
    {
     "name": "stdout",
     "output_type": "stream",
     "text": [
      "       Nama Gender  Angkatan Tinggi  Waktu Perjalanan (Menit) wilayah tinggal  \\\n",
      "0   Achmad       L      2023  large                        15         jakarta   \n",
      "2     felix      L      2023  large                        17          jaktim   \n",
      "4     April      P      2023  large                        15       tangerang   \n",
      "7     Aurel      P      2023  large                        21           jakut   \n",
      "9      dewa      L      2023  large                        31         jakarta   \n",
      "11     dony      L      2023  large                        28          bekasi   \n",
      "15  bambang      L      2023  large                        36           depok   \n",
      "18    dimas      L      2023  large                        48          bekasi   \n",
      "20     bayu      L      2023  large                        31         jakarta   \n",
      "25  nicolas      L      2023  large                        30          jaktim   \n",
      "26    nalen      L      2023  large                        36           depok   \n",
      "\n",
      "   Jurusan  \n",
      "0    TIF23  \n",
      "2    TIF23  \n",
      "4    TIF23  \n",
      "7    TIF23  \n",
      "9    TIF23  \n",
      "11   TIF23  \n",
      "15   TIF23  \n",
      "18   TIF23  \n",
      "20   TIF23  \n",
      "25   TIF23  \n",
      "26   TIF23  \n"
     ]
    }
   ],
   "source": [
    "kolom1dan2 = data_vira.iloc[:, 0:2]\n",
    "\n",
    "# Menampilkan DataFrame kolom1dan2\n",
    "print(kolom1dan2)"
   ]
  },
  {
   "cell_type": "code",
   "execution_count": 6,
   "id": "82835e5d",
   "metadata": {},
   "outputs": [
    {
     "name": "stdout",
     "output_type": "stream",
     "text": [
      "       Nama Gender\n",
      "0   Achmad       L\n",
      "1    rayyan      L\n",
      "2     felix      L\n",
      "3    andrew      L\n",
      "4     April      P\n",
      "5     Ariel      L\n",
      "6      Arik      L\n",
      "7     Aurel      P\n",
      "8     bahru      P\n",
      "9      dewa      L\n",
      "10     vira      L\n",
      "11     dony      L\n",
      "12     naya      P\n",
      "13    kevin      L\n",
      "14   hannan      L\n",
      "15  bambang      L\n",
      "16     jett      L\n",
      "17     dafa      L\n",
      "18    dimas      L\n",
      "19    monic      P\n",
      "20     bayu      L\n",
      "21   arjuna      L\n",
      "22     afuk      L\n",
      "23    putri      P\n",
      "24     ipin      L\n",
      "25  nicolas      L\n",
      "26    nalen      L\n",
      "27    fadil      L\n",
      "28   zavier      L\n"
     ]
    }
   ],
   "source": [
    "kolom1dan2 = data_adit.iloc[:, 0:2]\n",
    "\n",
    "# Menampilkan DataFrame kolom1dan2\n",
    "print(kolom1dan2)"
   ]
  },
  {
   "cell_type": "code",
   "execution_count": 7,
   "id": "39d3b24e",
   "metadata": {},
   "outputs": [
    {
     "name": "stdout",
     "output_type": "stream",
     "text": [
      "       Nama Gender  Angkatan  Tinggi  Waktu Perjalanan (Menit) wilayah tinggal\n",
      "0   Achmad       L      2023     175                        15         jakarta\n",
      "1    rayyan      L      2023     165                        13          bekasi\n",
      "2     felix      L      2023     175                        17          jaktim\n",
      "3    andrew      L      2023     168                        30           depok\n",
      "26    nalen      L      2023     175                        36           depok\n",
      "27    fadil      L      2023     170                        22         jakarta\n",
      "28   zavier      L      2023     160                        15          jakbar\n"
     ]
    },
    {
     "name": "stderr",
     "output_type": "stream",
     "text": [
      "C:\\Users\\Acer\\AppData\\Local\\Temp\\ipykernel_17948\\2011792813.py:4: FutureWarning: The frame.append method is deprecated and will be removed from pandas in a future version. Use pandas.concat instead.\n",
      "  baris1sd30 = baris1sd4.append(baris26sd30)\n"
     ]
    }
   ],
   "source": [
    "# Menggabungkan baris dari dua DataFrame\n",
    "baris1sd4 = data_adit.iloc[0:4, :]\n",
    "baris26sd30 = data_adit.iloc[26:30, :]\n",
    "baris1sd30 = baris1sd4.append(baris26sd30)\n",
    "\n",
    "# Menampilkan DataFrame baris1sd6\n",
    "print(baris1sd30)"
   ]
  },
  {
   "cell_type": "code",
   "execution_count": 8,
   "id": "c326bfc7",
   "metadata": {},
   "outputs": [
    {
     "name": "stdout",
     "output_type": "stream",
     "text": [
      "       Nama Gender  Angkatan  Tinggi  Waktu Perjalanan (Menit) wilayah tinggal\n",
      "28   zavier      L      2023     160                        15          jakbar\n",
      "17     dafa      L      2023     160                        15          jakbar\n",
      "1    rayyan      L      2023     165                        13          bekasi\n",
      "14   hannan      L      2023     166                        30          jaktim\n",
      "3    andrew      L      2023     168                        30           depok\n",
      "23    putri      P      2023     169                        10         jakarta\n",
      "12     naya      P      2023     169                        10         jakarta\n",
      "16     jett      L      2023     170                        22         jakarta\n",
      "27    fadil      L      2023     170                        22         jakarta\n",
      "8     bahru      P      2023     171                        22           depok\n",
      "19    monic      P      2023     171                        22           depok\n",
      "6      Arik      L      2023     173                        30          jakbar\n",
      "24     ipin      L      2023     173                        30          jaktim\n",
      "13    kevin      L      2023     173                        30          jaktim\n",
      "26    nalen      L      2023     175                        36           depok\n",
      "25  nicolas      L      2023     175                        30          jaktim\n",
      "20     bayu      L      2023     175                        31         jakarta\n",
      "18    dimas      L      2023     175                        48          bekasi\n",
      "4     April      P      2023     175                        15       tangerang\n",
      "15  bambang      L      2023     175                        36           depok\n",
      "11     dony      L      2023     175                        28          bekasi\n",
      "9      dewa      L      2023     175                        31         jakarta\n",
      "7     Aurel      P      2023     175                        21           jakut\n",
      "2     felix      L      2023     175                        17          jaktim\n",
      "0   Achmad       L      2023     175                        15         jakarta\n",
      "21   arjuna      L      2023     178                        25         jakarta\n",
      "10     vira      L      2023     178                        25         jakarta\n",
      "22     afuk      L      2023     179                        28          bekasi\n",
      "5     Ariel      L      2023     185                        17         jakarta\n"
     ]
    }
   ],
   "source": [
    "data_adit_sort = data_adit.sort_values(by='Tinggi')\n",
    "\n",
    "print(data_adit_sort)"
   ]
  },
  {
   "cell_type": "code",
   "execution_count": null,
   "id": "b1d852d3",
   "metadata": {},
   "outputs": [],
   "source": []
  }
 ],
 "metadata": {
  "kernelspec": {
   "display_name": "Python 3 (ipykernel)",
   "language": "python",
   "name": "python3"
  },
  "language_info": {
   "codemirror_mode": {
    "name": "ipython",
    "version": 3
   },
   "file_extension": ".py",
   "mimetype": "text/x-python",
   "name": "python",
   "nbconvert_exporter": "python",
   "pygments_lexer": "ipython3",
   "version": "3.11.4"
  }
 },
 "nbformat": 4,
 "nbformat_minor": 5
}
